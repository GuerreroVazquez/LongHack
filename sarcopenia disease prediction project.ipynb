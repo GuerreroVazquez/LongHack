{
 "cells": [
  {
   "cell_type": "code",
   "execution_count": 4,
   "id": "d8d5ed06",
   "metadata": {},
   "outputs": [],
   "source": [
    "import tensorflow as tf\n",
    "import numpy as np\n",
    "import keras\n",
    "import pandas as pd\n",
    "import matplotlib.pyplot as plt\n",
    "import seaborn"
   ]
  },
  {
   "cell_type": "code",
   "execution_count": 6,
   "id": "47599730",
   "metadata": {},
   "outputs": [],
   "source": [
    "data = pd.read_excel('E:/Hackathan Materials/Dataset/sarcopenia.xlsx')"
   ]
  },
  {
   "cell_type": "code",
   "execution_count": 7,
   "id": "d2042cfa",
   "metadata": {},
   "outputs": [],
   "source": [
    "#data = pd.read_csv(\"E:/Hackathan Materials/Dataset/sarcopenia.csv\")\n"
   ]
  },
  {
   "cell_type": "code",
   "execution_count": 8,
   "id": "69cc0f17",
   "metadata": {},
   "outputs": [
    {
     "data": {
      "text/plain": [
       "(251, 9)"
      ]
     },
     "execution_count": 8,
     "metadata": {},
     "output_type": "execute_result"
    }
   ],
   "source": [
    "data.shape"
   ]
  },
  {
   "cell_type": "code",
   "execution_count": 9,
   "id": "ed7c70cc",
   "metadata": {},
   "outputs": [
    {
     "data": {
      "text/plain": [
       "2"
      ]
     },
     "execution_count": 9,
     "metadata": {},
     "output_type": "execute_result"
    }
   ],
   "source": [
    "data.ndim"
   ]
  },
  {
   "cell_type": "code",
   "execution_count": 10,
   "id": "a741241a",
   "metadata": {},
   "outputs": [
    {
     "data": {
      "text/html": [
       "<div>\n",
       "<style scoped>\n",
       "    .dataframe tbody tr th:only-of-type {\n",
       "        vertical-align: middle;\n",
       "    }\n",
       "\n",
       "    .dataframe tbody tr th {\n",
       "        vertical-align: top;\n",
       "    }\n",
       "\n",
       "    .dataframe thead th {\n",
       "        text-align: right;\n",
       "    }\n",
       "</style>\n",
       "<table border=\"1\" class=\"dataframe\">\n",
       "  <thead>\n",
       "    <tr style=\"text-align: right;\">\n",
       "      <th></th>\n",
       "      <th>ID</th>\n",
       "      <th>Sex</th>\n",
       "      <th>Sarcopenia</th>\n",
       "      <th>Age</th>\n",
       "      <th>BMI</th>\n",
       "      <th>Risk &amp; Malnutrition</th>\n",
       "      <th>Gait_Speed</th>\n",
       "      <th>Grip_Strength</th>\n",
       "      <th>Muscle mass</th>\n",
       "    </tr>\n",
       "  </thead>\n",
       "  <tbody>\n",
       "    <tr>\n",
       "      <th>0</th>\n",
       "      <td>1</td>\n",
       "      <td>2</td>\n",
       "      <td>1</td>\n",
       "      <td>79</td>\n",
       "      <td>22.968750</td>\n",
       "      <td>1</td>\n",
       "      <td>0.70</td>\n",
       "      <td>26.0</td>\n",
       "      <td>5.70</td>\n",
       "    </tr>\n",
       "    <tr>\n",
       "      <th>1</th>\n",
       "      <td>2</td>\n",
       "      <td>1</td>\n",
       "      <td>1</td>\n",
       "      <td>80</td>\n",
       "      <td>19.596458</td>\n",
       "      <td>0</td>\n",
       "      <td>1.04</td>\n",
       "      <td>24.7</td>\n",
       "      <td>6.64</td>\n",
       "    </tr>\n",
       "    <tr>\n",
       "      <th>2</th>\n",
       "      <td>3</td>\n",
       "      <td>2</td>\n",
       "      <td>1</td>\n",
       "      <td>73</td>\n",
       "      <td>20.735598</td>\n",
       "      <td>1</td>\n",
       "      <td>0.46</td>\n",
       "      <td>12.2</td>\n",
       "      <td>4.90</td>\n",
       "    </tr>\n",
       "    <tr>\n",
       "      <th>3</th>\n",
       "      <td>4</td>\n",
       "      <td>1</td>\n",
       "      <td>0</td>\n",
       "      <td>67</td>\n",
       "      <td>23.243408</td>\n",
       "      <td>1</td>\n",
       "      <td>1.00</td>\n",
       "      <td>31.4</td>\n",
       "      <td>8.40</td>\n",
       "    </tr>\n",
       "    <tr>\n",
       "      <th>4</th>\n",
       "      <td>5</td>\n",
       "      <td>1</td>\n",
       "      <td>0</td>\n",
       "      <td>68</td>\n",
       "      <td>31.476489</td>\n",
       "      <td>0</td>\n",
       "      <td>0.65</td>\n",
       "      <td>45.9</td>\n",
       "      <td>10.60</td>\n",
       "    </tr>\n",
       "  </tbody>\n",
       "</table>\n",
       "</div>"
      ],
      "text/plain": [
       "   ID  Sex  Sarcopenia  Age        BMI  Risk & Malnutrition  Gait_Speed  \\\n",
       "0   1    2           1   79  22.968750                    1        0.70   \n",
       "1   2    1           1   80  19.596458                    0        1.04   \n",
       "2   3    2           1   73  20.735598                    1        0.46   \n",
       "3   4    1           0   67  23.243408                    1        1.00   \n",
       "4   5    1           0   68  31.476489                    0        0.65   \n",
       "\n",
       "   Grip_Strength  Muscle mass  \n",
       "0           26.0         5.70  \n",
       "1           24.7         6.64  \n",
       "2           12.2         4.90  \n",
       "3           31.4         8.40  \n",
       "4           45.9        10.60  "
      ]
     },
     "execution_count": 10,
     "metadata": {},
     "output_type": "execute_result"
    }
   ],
   "source": [
    "data.head()"
   ]
  },
  {
   "cell_type": "code",
   "execution_count": 12,
   "id": "e8da6181",
   "metadata": {},
   "outputs": [
    {
     "data": {
      "text/html": [
       "<div>\n",
       "<style scoped>\n",
       "    .dataframe tbody tr th:only-of-type {\n",
       "        vertical-align: middle;\n",
       "    }\n",
       "\n",
       "    .dataframe tbody tr th {\n",
       "        vertical-align: top;\n",
       "    }\n",
       "\n",
       "    .dataframe thead th {\n",
       "        text-align: right;\n",
       "    }\n",
       "</style>\n",
       "<table border=\"1\" class=\"dataframe\">\n",
       "  <thead>\n",
       "    <tr style=\"text-align: right;\">\n",
       "      <th></th>\n",
       "      <th>ID</th>\n",
       "      <th>Sex</th>\n",
       "      <th>Sarcopenia</th>\n",
       "      <th>Age</th>\n",
       "      <th>BMI</th>\n",
       "      <th>Risk &amp; Malnutrition</th>\n",
       "      <th>Gait_Speed</th>\n",
       "      <th>Grip_Strength</th>\n",
       "      <th>Muscle mass</th>\n",
       "    </tr>\n",
       "  </thead>\n",
       "  <tbody>\n",
       "    <tr>\n",
       "      <th>10</th>\n",
       "      <td>11</td>\n",
       "      <td>1</td>\n",
       "      <td>0</td>\n",
       "      <td>84</td>\n",
       "      <td>25.510204</td>\n",
       "      <td>0</td>\n",
       "      <td>0.96</td>\n",
       "      <td>27.6</td>\n",
       "      <td>7.97</td>\n",
       "    </tr>\n",
       "    <tr>\n",
       "      <th>58</th>\n",
       "      <td>60</td>\n",
       "      <td>1</td>\n",
       "      <td>0</td>\n",
       "      <td>76</td>\n",
       "      <td>24.274804</td>\n",
       "      <td>0</td>\n",
       "      <td>0.92</td>\n",
       "      <td>34.0</td>\n",
       "      <td>7.98</td>\n",
       "    </tr>\n",
       "    <tr>\n",
       "      <th>66</th>\n",
       "      <td>70</td>\n",
       "      <td>2</td>\n",
       "      <td>0</td>\n",
       "      <td>66</td>\n",
       "      <td>24.141519</td>\n",
       "      <td>0</td>\n",
       "      <td>1.02</td>\n",
       "      <td>19.1</td>\n",
       "      <td>7.73</td>\n",
       "    </tr>\n",
       "    <tr>\n",
       "      <th>224</th>\n",
       "      <td>234</td>\n",
       "      <td>1</td>\n",
       "      <td>1</td>\n",
       "      <td>69</td>\n",
       "      <td>15.430000</td>\n",
       "      <td>1</td>\n",
       "      <td>1.10</td>\n",
       "      <td>16.4</td>\n",
       "      <td>5.43</td>\n",
       "    </tr>\n",
       "    <tr>\n",
       "      <th>207</th>\n",
       "      <td>215</td>\n",
       "      <td>1</td>\n",
       "      <td>0</td>\n",
       "      <td>70</td>\n",
       "      <td>27.929688</td>\n",
       "      <td>0</td>\n",
       "      <td>0.62</td>\n",
       "      <td>22.0</td>\n",
       "      <td>10.59</td>\n",
       "    </tr>\n",
       "    <tr>\n",
       "      <th>247</th>\n",
       "      <td>257</td>\n",
       "      <td>2</td>\n",
       "      <td>0</td>\n",
       "      <td>68</td>\n",
       "      <td>25.636917</td>\n",
       "      <td>1</td>\n",
       "      <td>1.03</td>\n",
       "      <td>18.5</td>\n",
       "      <td>6.69</td>\n",
       "    </tr>\n",
       "    <tr>\n",
       "      <th>111</th>\n",
       "      <td>117</td>\n",
       "      <td>1</td>\n",
       "      <td>0</td>\n",
       "      <td>65</td>\n",
       "      <td>21.114833</td>\n",
       "      <td>1</td>\n",
       "      <td>1.24</td>\n",
       "      <td>36.5</td>\n",
       "      <td>6.94</td>\n",
       "    </tr>\n",
       "    <tr>\n",
       "      <th>149</th>\n",
       "      <td>155</td>\n",
       "      <td>1</td>\n",
       "      <td>0</td>\n",
       "      <td>61</td>\n",
       "      <td>18.285714</td>\n",
       "      <td>1</td>\n",
       "      <td>1.30</td>\n",
       "      <td>34.3</td>\n",
       "      <td>7.47</td>\n",
       "    </tr>\n",
       "    <tr>\n",
       "      <th>245</th>\n",
       "      <td>255</td>\n",
       "      <td>2</td>\n",
       "      <td>0</td>\n",
       "      <td>71</td>\n",
       "      <td>28.316327</td>\n",
       "      <td>0</td>\n",
       "      <td>0.62</td>\n",
       "      <td>13.2</td>\n",
       "      <td>7.32</td>\n",
       "    </tr>\n",
       "    <tr>\n",
       "      <th>204</th>\n",
       "      <td>212</td>\n",
       "      <td>1</td>\n",
       "      <td>1</td>\n",
       "      <td>76</td>\n",
       "      <td>16.359310</td>\n",
       "      <td>1</td>\n",
       "      <td>0.84</td>\n",
       "      <td>25.9</td>\n",
       "      <td>6.08</td>\n",
       "    </tr>\n",
       "  </tbody>\n",
       "</table>\n",
       "</div>"
      ],
      "text/plain": [
       "      ID  Sex  Sarcopenia  Age        BMI  Risk & Malnutrition  Gait_Speed  \\\n",
       "10    11    1           0   84  25.510204                    0        0.96   \n",
       "58    60    1           0   76  24.274804                    0        0.92   \n",
       "66    70    2           0   66  24.141519                    0        1.02   \n",
       "224  234    1           1   69  15.430000                    1        1.10   \n",
       "207  215    1           0   70  27.929688                    0        0.62   \n",
       "247  257    2           0   68  25.636917                    1        1.03   \n",
       "111  117    1           0   65  21.114833                    1        1.24   \n",
       "149  155    1           0   61  18.285714                    1        1.30   \n",
       "245  255    2           0   71  28.316327                    0        0.62   \n",
       "204  212    1           1   76  16.359310                    1        0.84   \n",
       "\n",
       "     Grip_Strength  Muscle mass  \n",
       "10            27.6         7.97  \n",
       "58            34.0         7.98  \n",
       "66            19.1         7.73  \n",
       "224           16.4         5.43  \n",
       "207           22.0        10.59  \n",
       "247           18.5         6.69  \n",
       "111           36.5         6.94  \n",
       "149           34.3         7.47  \n",
       "245           13.2         7.32  \n",
       "204           25.9         6.08  "
      ]
     },
     "execution_count": 12,
     "metadata": {},
     "output_type": "execute_result"
    }
   ],
   "source": [
    "data.sample(10)"
   ]
  },
  {
   "cell_type": "code",
   "execution_count": 13,
   "id": "6da92588",
   "metadata": {},
   "outputs": [
    {
     "data": {
      "text/plain": [
       "Index(['ID', 'Sex', 'Sarcopenia', 'Age', 'BMI', 'Risk & Malnutrition',\n",
       "       'Gait_Speed', 'Grip_Strength', 'Muscle mass'],\n",
       "      dtype='object')"
      ]
     },
     "execution_count": 13,
     "metadata": {},
     "output_type": "execute_result"
    }
   ],
   "source": [
    "data.columns"
   ]
  },
  {
   "cell_type": "code",
   "execution_count": 14,
   "id": "f0c5068b",
   "metadata": {},
   "outputs": [
    {
     "data": {
      "text/plain": [
       "ID                       int64\n",
       "Sex                      int64\n",
       "Sarcopenia               int64\n",
       "Age                      int64\n",
       "BMI                    float64\n",
       "Risk & Malnutrition      int64\n",
       "Gait_Speed             float64\n",
       "Grip_Strength          float64\n",
       "Muscle mass            float64\n",
       "dtype: object"
      ]
     },
     "execution_count": 14,
     "metadata": {},
     "output_type": "execute_result"
    }
   ],
   "source": [
    "data.dtypes"
   ]
  },
  {
   "cell_type": "code",
   "execution_count": 15,
   "id": "ba53c21b",
   "metadata": {},
   "outputs": [
    {
     "name": "stdout",
     "output_type": "stream",
     "text": [
      "<class 'pandas.core.frame.DataFrame'>\n",
      "RangeIndex: 251 entries, 0 to 250\n",
      "Data columns (total 9 columns):\n",
      " #   Column               Non-Null Count  Dtype  \n",
      "---  ------               --------------  -----  \n",
      " 0   ID                   251 non-null    int64  \n",
      " 1   Sex                  251 non-null    int64  \n",
      " 2   Sarcopenia           251 non-null    int64  \n",
      " 3   Age                  251 non-null    int64  \n",
      " 4   BMI                  251 non-null    float64\n",
      " 5   Risk & Malnutrition  251 non-null    int64  \n",
      " 6   Gait_Speed           251 non-null    float64\n",
      " 7   Grip_Strength        251 non-null    float64\n",
      " 8   Muscle mass          251 non-null    float64\n",
      "dtypes: float64(4), int64(5)\n",
      "memory usage: 17.8 KB\n"
     ]
    }
   ],
   "source": [
    "data.info()"
   ]
  },
  {
   "cell_type": "code",
   "execution_count": 16,
   "id": "0259ad9e",
   "metadata": {},
   "outputs": [
    {
     "data": {
      "text/html": [
       "<div>\n",
       "<style scoped>\n",
       "    .dataframe tbody tr th:only-of-type {\n",
       "        vertical-align: middle;\n",
       "    }\n",
       "\n",
       "    .dataframe tbody tr th {\n",
       "        vertical-align: top;\n",
       "    }\n",
       "\n",
       "    .dataframe thead th {\n",
       "        text-align: right;\n",
       "    }\n",
       "</style>\n",
       "<table border=\"1\" class=\"dataframe\">\n",
       "  <thead>\n",
       "    <tr style=\"text-align: right;\">\n",
       "      <th></th>\n",
       "      <th>ID</th>\n",
       "      <th>Sex</th>\n",
       "      <th>Sarcopenia</th>\n",
       "      <th>Age</th>\n",
       "      <th>BMI</th>\n",
       "      <th>Risk &amp; Malnutrition</th>\n",
       "      <th>Gait_Speed</th>\n",
       "      <th>Grip_Strength</th>\n",
       "      <th>Muscle mass</th>\n",
       "    </tr>\n",
       "  </thead>\n",
       "  <tbody>\n",
       "    <tr>\n",
       "      <th>count</th>\n",
       "      <td>251.000000</td>\n",
       "      <td>251.000000</td>\n",
       "      <td>251.000000</td>\n",
       "      <td>251.000000</td>\n",
       "      <td>251.000000</td>\n",
       "      <td>251.00000</td>\n",
       "      <td>251.000000</td>\n",
       "      <td>251.000000</td>\n",
       "      <td>251.000000</td>\n",
       "    </tr>\n",
       "    <tr>\n",
       "      <th>mean</th>\n",
       "      <td>130.601594</td>\n",
       "      <td>1.422311</td>\n",
       "      <td>0.334661</td>\n",
       "      <td>71.585657</td>\n",
       "      <td>23.402251</td>\n",
       "      <td>0.59761</td>\n",
       "      <td>0.922207</td>\n",
       "      <td>22.977291</td>\n",
       "      <td>7.145857</td>\n",
       "    </tr>\n",
       "    <tr>\n",
       "      <th>std</th>\n",
       "      <td>75.294360</td>\n",
       "      <td>0.494914</td>\n",
       "      <td>0.472815</td>\n",
       "      <td>7.570181</td>\n",
       "      <td>4.353839</td>\n",
       "      <td>0.49136</td>\n",
       "      <td>0.532354</td>\n",
       "      <td>8.103451</td>\n",
       "      <td>1.345982</td>\n",
       "    </tr>\n",
       "    <tr>\n",
       "      <th>min</th>\n",
       "      <td>1.000000</td>\n",
       "      <td>1.000000</td>\n",
       "      <td>0.000000</td>\n",
       "      <td>60.000000</td>\n",
       "      <td>15.039448</td>\n",
       "      <td>0.00000</td>\n",
       "      <td>0.080000</td>\n",
       "      <td>5.300000</td>\n",
       "      <td>3.520000</td>\n",
       "    </tr>\n",
       "    <tr>\n",
       "      <th>25%</th>\n",
       "      <td>65.500000</td>\n",
       "      <td>1.000000</td>\n",
       "      <td>0.000000</td>\n",
       "      <td>65.000000</td>\n",
       "      <td>20.389082</td>\n",
       "      <td>0.00000</td>\n",
       "      <td>0.760000</td>\n",
       "      <td>17.200000</td>\n",
       "      <td>6.235000</td>\n",
       "    </tr>\n",
       "    <tr>\n",
       "      <th>50%</th>\n",
       "      <td>131.000000</td>\n",
       "      <td>1.000000</td>\n",
       "      <td>0.000000</td>\n",
       "      <td>71.000000</td>\n",
       "      <td>22.939751</td>\n",
       "      <td>1.00000</td>\n",
       "      <td>0.890000</td>\n",
       "      <td>22.100000</td>\n",
       "      <td>7.030000</td>\n",
       "    </tr>\n",
       "    <tr>\n",
       "      <th>75%</th>\n",
       "      <td>194.500000</td>\n",
       "      <td>2.000000</td>\n",
       "      <td>1.000000</td>\n",
       "      <td>78.000000</td>\n",
       "      <td>26.104327</td>\n",
       "      <td>1.00000</td>\n",
       "      <td>1.040000</td>\n",
       "      <td>28.300000</td>\n",
       "      <td>7.965000</td>\n",
       "    </tr>\n",
       "    <tr>\n",
       "      <th>max</th>\n",
       "      <td>260.000000</td>\n",
       "      <td>2.000000</td>\n",
       "      <td>1.000000</td>\n",
       "      <td>94.000000</td>\n",
       "      <td>41.094689</td>\n",
       "      <td>1.00000</td>\n",
       "      <td>8.380000</td>\n",
       "      <td>45.900000</td>\n",
       "      <td>12.050000</td>\n",
       "    </tr>\n",
       "  </tbody>\n",
       "</table>\n",
       "</div>"
      ],
      "text/plain": [
       "               ID         Sex  Sarcopenia         Age         BMI  \\\n",
       "count  251.000000  251.000000  251.000000  251.000000  251.000000   \n",
       "mean   130.601594    1.422311    0.334661   71.585657   23.402251   \n",
       "std     75.294360    0.494914    0.472815    7.570181    4.353839   \n",
       "min      1.000000    1.000000    0.000000   60.000000   15.039448   \n",
       "25%     65.500000    1.000000    0.000000   65.000000   20.389082   \n",
       "50%    131.000000    1.000000    0.000000   71.000000   22.939751   \n",
       "75%    194.500000    2.000000    1.000000   78.000000   26.104327   \n",
       "max    260.000000    2.000000    1.000000   94.000000   41.094689   \n",
       "\n",
       "       Risk & Malnutrition  Gait_Speed  Grip_Strength  Muscle mass  \n",
       "count            251.00000  251.000000     251.000000   251.000000  \n",
       "mean               0.59761    0.922207      22.977291     7.145857  \n",
       "std                0.49136    0.532354       8.103451     1.345982  \n",
       "min                0.00000    0.080000       5.300000     3.520000  \n",
       "25%                0.00000    0.760000      17.200000     6.235000  \n",
       "50%                1.00000    0.890000      22.100000     7.030000  \n",
       "75%                1.00000    1.040000      28.300000     7.965000  \n",
       "max                1.00000    8.380000      45.900000    12.050000  "
      ]
     },
     "execution_count": 16,
     "metadata": {},
     "output_type": "execute_result"
    }
   ],
   "source": [
    "data.describe()"
   ]
  },
  {
   "cell_type": "code",
   "execution_count": 17,
   "id": "72aced56",
   "metadata": {},
   "outputs": [
    {
     "data": {
      "text/plain": [
       "ID                     0\n",
       "Sex                    0\n",
       "Sarcopenia             0\n",
       "Age                    0\n",
       "BMI                    0\n",
       "Risk & Malnutrition    0\n",
       "Gait_Speed             0\n",
       "Grip_Strength          0\n",
       "Muscle mass            0\n",
       "dtype: int64"
      ]
     },
     "execution_count": 17,
     "metadata": {},
     "output_type": "execute_result"
    }
   ],
   "source": [
    "data.isnull().sum()"
   ]
  },
  {
   "cell_type": "code",
   "execution_count": 22,
   "id": "51f5f0ac",
   "metadata": {},
   "outputs": [
    {
     "data": {
      "text/plain": [
       "2"
      ]
     },
     "execution_count": 22,
     "metadata": {},
     "output_type": "execute_result"
    }
   ],
   "source": [
    "data['Sarcopenia'].nunique()"
   ]
  },
  {
   "cell_type": "code",
   "execution_count": 23,
   "id": "85a5d6b1",
   "metadata": {},
   "outputs": [
    {
     "data": {
      "text/plain": [
       "array([1, 0], dtype=int64)"
      ]
     },
     "execution_count": 23,
     "metadata": {},
     "output_type": "execute_result"
    }
   ],
   "source": [
    "data['Sarcopenia'].unique()"
   ]
  },
  {
   "cell_type": "code",
   "execution_count": 27,
   "id": "63b12d89",
   "metadata": {},
   "outputs": [
    {
     "data": {
      "image/png": "[encoded data removed]",
      "text/plain": [
       "<Figure size 1000x600 with 1 Axes>"
      ]
     },
     "metadata": {},
     "output_type": "display_data"
    }
   ],
   "source": [
    "#Pie Chart for the Sentiments Percentage \n",
    "import matplotlib.pyplot as splt\n",
    "import seaborn as sns\n",
    "\n",
    "plt.figure(figsize=(10,6))\n",
    "plt.pie(data['Sarcopenia'].value_counts(), labels= data['Sarcopenia'].unique(), autopct='%.1f%%', textprops={'color':\"w\"})\n",
    "plt.legend(loc='upper right')\n",
    "plt.axis('equal')\n",
    "plt.show()"
   ]
  },
  {
   "cell_type": "code",
   "execution_count": 28,
   "id": "d8d1ac54",
   "metadata": {},
   "outputs": [],
   "source": [
    "%matplotlib inline\n",
    "import matplotlib.pyplot as plt #for data visualizing\n",
    "import seaborn as sns \n",
    "color = sns.color_palette()"
   ]
  },
  {
   "cell_type": "code",
   "execution_count": 31,
   "id": "bdb8a4a9",
   "metadata": {},
   "outputs": [
    {
     "data": {
      "text/plain": [
       "[Text(0.5, 1.0, 'Correlation Matrix')]"
      ]
     },
     "execution_count": 31,
     "metadata": {},
     "output_type": "execute_result"
    },
    {
     "data": {
      "image/png": "[encoded data removed]",
      "text/plain": [
       "<Figure size 1200x1000 with 2 Axes>"
      ]
     },
     "metadata": {},
     "output_type": "display_data"
    }
   ],
   "source": [
    "# Correlation matrix\n",
    "corr = data.corr() \n",
    "plt.figure(figsize=(12,10))\n",
    "sns.heatmap(data=corr, annot=True, cmap='Spectral').set(title=\"Correlation Matrix\")"
   ]
  },
  {
   "cell_type": "code",
   "execution_count": 32,
   "id": "a494abf8",
   "metadata": {},
   "outputs": [
    {
     "data": {
      "text/plain": [
       "(251, 9)"
      ]
     },
     "execution_count": 32,
     "metadata": {},
     "output_type": "execute_result"
    }
   ],
   "source": [
    "data.shape"
   ]
  },
  {
   "cell_type": "code",
   "execution_count": 33,
   "id": "ff797ad8",
   "metadata": {},
   "outputs": [],
   "source": [
    "y = data['Sarcopenia']\n",
    "x = data.drop('Sarcopenia', axis = 1)"
   ]
  },
  {
   "cell_type": "code",
   "execution_count": 34,
   "id": "ce6554fa",
   "metadata": {},
   "outputs": [
    {
     "name": "stdout",
     "output_type": "stream",
     "text": [
      "(251, 8)\n",
      "(251,)\n"
     ]
    }
   ],
   "source": [
    "print(x.shape)\n",
    "print(y.shape)"
   ]
  },
  {
   "cell_type": "code",
   "execution_count": 35,
   "id": "c3bc53e0",
   "metadata": {},
   "outputs": [
    {
     "data": {
      "text/plain": [
       "0    1\n",
       "1    1\n",
       "2    1\n",
       "3    0\n",
       "4    0\n",
       "Name: Sarcopenia, dtype: int64"
      ]
     },
     "execution_count": 35,
     "metadata": {},
     "output_type": "execute_result"
    }
   ],
   "source": [
    "y.head()"
   ]
  },
  {
   "cell_type": "code",
   "execution_count": 36,
   "id": "9a857984",
   "metadata": {},
   "outputs": [
    {
     "data": {
      "text/html": [
       "<div>\n",
       "<style scoped>\n",
       "    .dataframe tbody tr th:only-of-type {\n",
       "        vertical-align: middle;\n",
       "    }\n",
       "\n",
       "    .dataframe tbody tr th {\n",
       "        vertical-align: top;\n",
       "    }\n",
       "\n",
       "    .dataframe thead th {\n",
       "        text-align: right;\n",
       "    }\n",
       "</style>\n",
       "<table border=\"1\" class=\"dataframe\">\n",
       "  <thead>\n",
       "    <tr style=\"text-align: right;\">\n",
       "      <th></th>\n",
       "      <th>ID</th>\n",
       "      <th>Sex</th>\n",
       "      <th>Age</th>\n",
       "      <th>BMI</th>\n",
       "      <th>Risk &amp; Malnutrition</th>\n",
       "      <th>Gait_Speed</th>\n",
       "      <th>Grip_Strength</th>\n",
       "      <th>Muscle mass</th>\n",
       "    </tr>\n",
       "  </thead>\n",
       "  <tbody>\n",
       "    <tr>\n",
       "      <th>0</th>\n",
       "      <td>1</td>\n",
       "      <td>2</td>\n",
       "      <td>79</td>\n",
       "      <td>22.968750</td>\n",
       "      <td>1</td>\n",
       "      <td>0.70</td>\n",
       "      <td>26.0</td>\n",
       "      <td>5.70</td>\n",
       "    </tr>\n",
       "    <tr>\n",
       "      <th>1</th>\n",
       "      <td>2</td>\n",
       "      <td>1</td>\n",
       "      <td>80</td>\n",
       "      <td>19.596458</td>\n",
       "      <td>0</td>\n",
       "      <td>1.04</td>\n",
       "      <td>24.7</td>\n",
       "      <td>6.64</td>\n",
       "    </tr>\n",
       "    <tr>\n",
       "      <th>2</th>\n",
       "      <td>3</td>\n",
       "      <td>2</td>\n",
       "      <td>73</td>\n",
       "      <td>20.735598</td>\n",
       "      <td>1</td>\n",
       "      <td>0.46</td>\n",
       "      <td>12.2</td>\n",
       "      <td>4.90</td>\n",
       "    </tr>\n",
       "    <tr>\n",
       "      <th>3</th>\n",
       "      <td>4</td>\n",
       "      <td>1</td>\n",
       "      <td>67</td>\n",
       "      <td>23.243408</td>\n",
       "      <td>1</td>\n",
       "      <td>1.00</td>\n",
       "      <td>31.4</td>\n",
       "      <td>8.40</td>\n",
       "    </tr>\n",
       "    <tr>\n",
       "      <th>4</th>\n",
       "      <td>5</td>\n",
       "      <td>1</td>\n",
       "      <td>68</td>\n",
       "      <td>31.476489</td>\n",
       "      <td>0</td>\n",
       "      <td>0.65</td>\n",
       "      <td>45.9</td>\n",
       "      <td>10.60</td>\n",
       "    </tr>\n",
       "  </tbody>\n",
       "</table>\n",
       "</div>"
      ],
      "text/plain": [
       "   ID  Sex  Age        BMI  Risk & Malnutrition  Gait_Speed  Grip_Strength  \\\n",
       "0   1    2   79  22.968750                    1        0.70           26.0   \n",
       "1   2    1   80  19.596458                    0        1.04           24.7   \n",
       "2   3    2   73  20.735598                    1        0.46           12.2   \n",
       "3   4    1   67  23.243408                    1        1.00           31.4   \n",
       "4   5    1   68  31.476489                    0        0.65           45.9   \n",
       "\n",
       "   Muscle mass  \n",
       "0         5.70  \n",
       "1         6.64  \n",
       "2         4.90  \n",
       "3         8.40  \n",
       "4        10.60  "
      ]
     },
     "execution_count": 36,
     "metadata": {},
     "output_type": "execute_result"
    }
   ],
   "source": [
    "x.head()"
   ]
  },
  {
   "cell_type": "code",
   "execution_count": null,
   "id": "bcf12500",
   "metadata": {},
   "outputs": [],
   "source": []
  },
  {
   "cell_type": "code",
   "execution_count": 43,
   "id": "f370ec19",
   "metadata": {},
   "outputs": [],
   "source": [
    "#Importing our ML toolkit\n",
    "from sklearn.preprocessing import StandardScaler\n",
    "from sklearn.model_selection import train_test_split\n",
    "from sklearn.pipeline import Pipeline\n",
    "from sklearn.linear_model import LogisticRegression\n",
    "from sklearn.metrics import accuracy_score ,classification_report\n",
    "from sklearn.svm import SVC\n",
    "import pickle\n",
    "from sklearn.linear_model import LinearRegression\n",
    "from sklearn.linear_model import LogisticRegression\n",
    "from sklearn.preprocessing import StandardScaler\n",
    "from sklearn.neighbors import KNeighborsClassifier\n",
    "from sklearn.tree import DecisionTreeClassifier\n",
    "from sklearn.ensemble import RandomForestClassifier\n",
    "from sklearn.ensemble import AdaBoostClassifier\n",
    "from sklearn.ensemble import GradientBoostingClassifier\n",
    "from xgboost import XGBClassifier, plot_importance\n",
    "from sklearn.model_selection import GridSearchCV, cross_val_score, StratifiedKFold, learning_curve"
   ]
  },
  {
   "cell_type": "code",
   "execution_count": 44,
   "id": "d85c9a8f",
   "metadata": {},
   "outputs": [
    {
     "data": {
      "text/plain": [
       "((175, 8), (76, 8))"
      ]
     },
     "execution_count": 44,
     "metadata": {},
     "output_type": "execute_result"
    }
   ],
   "source": [
    "X_train, X_test, y_train, y_test = train_test_split(x, y, test_size=0.3, random_state=0)\n",
    "X_train.shape, X_test.shape"
   ]
  },
  {
   "cell_type": "code",
   "execution_count": 45,
   "id": "39f8528d",
   "metadata": {},
   "outputs": [],
   "source": [
    "accuracy = {}"
   ]
  },
  {
   "cell_type": "code",
   "execution_count": null,
   "id": "c532853a",
   "metadata": {},
   "outputs": [],
   "source": []
  },
  {
   "cell_type": "code",
   "execution_count": 88,
   "id": "9d9454b8",
   "metadata": {},
   "outputs": [
    {
     "name": "stdout",
     "output_type": "stream",
     "text": [
      "0.8421052631578947\n"
     ]
    }
   ],
   "source": [
    "model2 = DecisionTreeClassifier(max_depth=35)\n",
    "model2.fit(X_train, y_train)\n",
    "y_pred2 = model2.predict(X_test)\n",
    "print(accuracy_score(y_test, y_pred2))\n",
    "accuracy[str(model2)] = accuracy_score(y_test, y_pred2)*100"
   ]
  },
  {
   "cell_type": "code",
   "execution_count": 89,
   "id": "a5007c71",
   "metadata": {},
   "outputs": [],
   "source": [
    "y_pred_test = model2.predict(X_test)\n",
    "y_pred_train = model2.predict(X_train)\n",
    "\n",
    "test2 = pd.DataFrame({\n",
    "    'Actual':y_test,\n",
    "    'Y test predicted':y_pred_test\n",
    "})\n",
    "\n",
    "train = pd.DataFrame({\n",
    "    'Actual':y_train,\n",
    "    'Y train predicted':y_pred_train\n",
    "})"
   ]
  },
  {
   "cell_type": "code",
   "execution_count": 90,
   "id": "10ac115b",
   "metadata": {},
   "outputs": [
    {
     "data": {
      "text/html": [
       "<div>\n",
       "<style scoped>\n",
       "    .dataframe tbody tr th:only-of-type {\n",
       "        vertical-align: middle;\n",
       "    }\n",
       "\n",
       "    .dataframe tbody tr th {\n",
       "        vertical-align: top;\n",
       "    }\n",
       "\n",
       "    .dataframe thead th {\n",
       "        text-align: right;\n",
       "    }\n",
       "</style>\n",
       "<table border=\"1\" class=\"dataframe\">\n",
       "  <thead>\n",
       "    <tr style=\"text-align: right;\">\n",
       "      <th></th>\n",
       "      <th>Actual</th>\n",
       "      <th>Y test predicted</th>\n",
       "    </tr>\n",
       "  </thead>\n",
       "  <tbody>\n",
       "    <tr>\n",
       "      <th>242</th>\n",
       "      <td>0</td>\n",
       "      <td>0</td>\n",
       "    </tr>\n",
       "    <tr>\n",
       "      <th>15</th>\n",
       "      <td>0</td>\n",
       "      <td>0</td>\n",
       "    </tr>\n",
       "    <tr>\n",
       "      <th>245</th>\n",
       "      <td>0</td>\n",
       "      <td>0</td>\n",
       "    </tr>\n",
       "    <tr>\n",
       "      <th>96</th>\n",
       "      <td>0</td>\n",
       "      <td>0</td>\n",
       "    </tr>\n",
       "    <tr>\n",
       "      <th>187</th>\n",
       "      <td>1</td>\n",
       "      <td>1</td>\n",
       "    </tr>\n",
       "    <tr>\n",
       "      <th>194</th>\n",
       "      <td>0</td>\n",
       "      <td>0</td>\n",
       "    </tr>\n",
       "    <tr>\n",
       "      <th>237</th>\n",
       "      <td>1</td>\n",
       "      <td>0</td>\n",
       "    </tr>\n",
       "    <tr>\n",
       "      <th>64</th>\n",
       "      <td>1</td>\n",
       "      <td>0</td>\n",
       "    </tr>\n",
       "    <tr>\n",
       "      <th>182</th>\n",
       "      <td>0</td>\n",
       "      <td>0</td>\n",
       "    </tr>\n",
       "    <tr>\n",
       "      <th>162</th>\n",
       "      <td>0</td>\n",
       "      <td>0</td>\n",
       "    </tr>\n",
       "    <tr>\n",
       "      <th>203</th>\n",
       "      <td>0</td>\n",
       "      <td>0</td>\n",
       "    </tr>\n",
       "    <tr>\n",
       "      <th>18</th>\n",
       "      <td>0</td>\n",
       "      <td>0</td>\n",
       "    </tr>\n",
       "    <tr>\n",
       "      <th>111</th>\n",
       "      <td>0</td>\n",
       "      <td>0</td>\n",
       "    </tr>\n",
       "    <tr>\n",
       "      <th>229</th>\n",
       "      <td>1</td>\n",
       "      <td>1</td>\n",
       "    </tr>\n",
       "    <tr>\n",
       "      <th>198</th>\n",
       "      <td>0</td>\n",
       "      <td>0</td>\n",
       "    </tr>\n",
       "    <tr>\n",
       "      <th>126</th>\n",
       "      <td>0</td>\n",
       "      <td>0</td>\n",
       "    </tr>\n",
       "    <tr>\n",
       "      <th>97</th>\n",
       "      <td>0</td>\n",
       "      <td>0</td>\n",
       "    </tr>\n",
       "    <tr>\n",
       "      <th>71</th>\n",
       "      <td>1</td>\n",
       "      <td>0</td>\n",
       "    </tr>\n",
       "    <tr>\n",
       "      <th>74</th>\n",
       "      <td>0</td>\n",
       "      <td>0</td>\n",
       "    </tr>\n",
       "    <tr>\n",
       "      <th>241</th>\n",
       "      <td>0</td>\n",
       "      <td>0</td>\n",
       "    </tr>\n",
       "  </tbody>\n",
       "</table>\n",
       "</div>"
      ],
      "text/plain": [
       "     Actual  Y test predicted\n",
       "242       0                 0\n",
       "15        0                 0\n",
       "245       0                 0\n",
       "96        0                 0\n",
       "187       1                 1\n",
       "194       0                 0\n",
       "237       1                 0\n",
       "64        1                 0\n",
       "182       0                 0\n",
       "162       0                 0\n",
       "203       0                 0\n",
       "18        0                 0\n",
       "111       0                 0\n",
       "229       1                 1\n",
       "198       0                 0\n",
       "126       0                 0\n",
       "97        0                 0\n",
       "71        1                 0\n",
       "74        0                 0\n",
       "241       0                 0"
      ]
     },
     "execution_count": 90,
     "metadata": {},
     "output_type": "execute_result"
    }
   ],
   "source": [
    "test2.sample(20)"
   ]
  },
  {
   "cell_type": "code",
   "execution_count": 91,
   "id": "d298f4f5",
   "metadata": {},
   "outputs": [
    {
     "data": {
      "text/plain": [
       "<AxesSubplot:>"
      ]
     },
     "execution_count": 91,
     "metadata": {},
     "output_type": "execute_result"
    },
    {
     "data": {
      "image/png": "[encoded data removed]",
      "text/plain": [
       "<Figure size 1500x600 with 2 Axes>"
      ]
     },
     "metadata": {},
     "output_type": "display_data"
    }
   ],
   "source": [
    "from sklearn.metrics import confusion_matrix\n",
    "\n",
    "cm=confusion_matrix(y_test,y_pred2)\n",
    "\n",
    "conf_matrix=pd.DataFrame(data=cm,columns=['Predicted:0','Predicted:1'],index=['Actual:0','Actual:1'])\n",
    "#conf_matrix=pd.DataFrame(data=cm,\n",
    "#                         columns= [16, 21, 19, 35, 23, 15,  9, 20, 28, 18, 31, 17, 24, 14, 34, 30, 22, 26],\n",
    "#                         index =  [16, 21, 19, 35, 23, 15,  9, 20, 28, 18, 31, 17, 24, 14, 34, 30, 22, 26])\n",
    "\n",
    "plt.figure(figsize = (15,6))\n",
    "sns.heatmap(conf_matrix, annot=True,fmt='d',cmap=\"YlGnBu\")"
   ]
  },
  {
   "cell_type": "code",
   "execution_count": null,
   "id": "9bf83dde",
   "metadata": {},
   "outputs": [],
   "source": []
  },
  {
   "cell_type": "code",
   "execution_count": 69,
   "id": "fc536891",
   "metadata": {},
   "outputs": [
    {
     "name": "stdout",
     "output_type": "stream",
     "text": [
      "0.9342105263157895\n"
     ]
    }
   ],
   "source": [
    "model3 = RandomForestClassifier(max_depth=25)\n",
    "model3.fit(X_train, y_train)\n",
    "y_pred3 = model3.predict(X_test)\n",
    "print(accuracy_score(y_test, y_pred3))\n",
    "accuracy[str(model3)] = accuracy_score(y_test, y_pred3)*100"
   ]
  },
  {
   "cell_type": "code",
   "execution_count": 70,
   "id": "cc56f9dc",
   "metadata": {},
   "outputs": [
    {
     "name": "stdout",
     "output_type": "stream",
     "text": [
      "              precision    recall  f1-score   support\n",
      "\n",
      "           0       0.92      0.98      0.95        46\n",
      "           1       0.96      0.87      0.91        30\n",
      "\n",
      "    accuracy                           0.93        76\n",
      "   macro avg       0.94      0.92      0.93        76\n",
      "weighted avg       0.94      0.93      0.93        76\n",
      "\n"
     ]
    }
   ],
   "source": [
    "print(classification_report(y_test,y_pred3))"
   ]
  },
  {
   "cell_type": "code",
   "execution_count": 71,
   "id": "8d8aac3f",
   "metadata": {},
   "outputs": [],
   "source": [
    "y_pred_test = model3.predict(X_test)\n",
    "y_pred_train = model3.predict(X_train)\n",
    "\n",
    "test3 = pd.DataFrame({\n",
    "    'Actual':y_test,\n",
    "    'Y test predicted':y_pred_test\n",
    "})\n",
    "\n",
    "train = pd.DataFrame({\n",
    "    'Actual':y_train,\n",
    "    'Y train predicted':y_pred_train\n",
    "})"
   ]
  },
  {
   "cell_type": "code",
   "execution_count": 72,
   "id": "26d0a270",
   "metadata": {},
   "outputs": [
    {
     "data": {
      "text/html": [
       "<div>\n",
       "<style scoped>\n",
       "    .dataframe tbody tr th:only-of-type {\n",
       "        vertical-align: middle;\n",
       "    }\n",
       "\n",
       "    .dataframe tbody tr th {\n",
       "        vertical-align: top;\n",
       "    }\n",
       "\n",
       "    .dataframe thead th {\n",
       "        text-align: right;\n",
       "    }\n",
       "</style>\n",
       "<table border=\"1\" class=\"dataframe\">\n",
       "  <thead>\n",
       "    <tr style=\"text-align: right;\">\n",
       "      <th></th>\n",
       "      <th>Actual</th>\n",
       "      <th>Y test predicted</th>\n",
       "    </tr>\n",
       "  </thead>\n",
       "  <tbody>\n",
       "    <tr>\n",
       "      <th>18</th>\n",
       "      <td>0</td>\n",
       "      <td>0</td>\n",
       "    </tr>\n",
       "    <tr>\n",
       "      <th>96</th>\n",
       "      <td>0</td>\n",
       "      <td>0</td>\n",
       "    </tr>\n",
       "    <tr>\n",
       "      <th>207</th>\n",
       "      <td>0</td>\n",
       "      <td>0</td>\n",
       "    </tr>\n",
       "    <tr>\n",
       "      <th>149</th>\n",
       "      <td>0</td>\n",
       "      <td>0</td>\n",
       "    </tr>\n",
       "    <tr>\n",
       "      <th>92</th>\n",
       "      <td>1</td>\n",
       "      <td>1</td>\n",
       "    </tr>\n",
       "    <tr>\n",
       "      <th>191</th>\n",
       "      <td>1</td>\n",
       "      <td>1</td>\n",
       "    </tr>\n",
       "    <tr>\n",
       "      <th>229</th>\n",
       "      <td>1</td>\n",
       "      <td>1</td>\n",
       "    </tr>\n",
       "    <tr>\n",
       "      <th>225</th>\n",
       "      <td>0</td>\n",
       "      <td>0</td>\n",
       "    </tr>\n",
       "    <tr>\n",
       "      <th>64</th>\n",
       "      <td>1</td>\n",
       "      <td>1</td>\n",
       "    </tr>\n",
       "    <tr>\n",
       "      <th>203</th>\n",
       "      <td>0</td>\n",
       "      <td>0</td>\n",
       "    </tr>\n",
       "    <tr>\n",
       "      <th>228</th>\n",
       "      <td>0</td>\n",
       "      <td>0</td>\n",
       "    </tr>\n",
       "    <tr>\n",
       "      <th>245</th>\n",
       "      <td>0</td>\n",
       "      <td>0</td>\n",
       "    </tr>\n",
       "    <tr>\n",
       "      <th>155</th>\n",
       "      <td>1</td>\n",
       "      <td>1</td>\n",
       "    </tr>\n",
       "    <tr>\n",
       "      <th>186</th>\n",
       "      <td>1</td>\n",
       "      <td>0</td>\n",
       "    </tr>\n",
       "    <tr>\n",
       "      <th>137</th>\n",
       "      <td>1</td>\n",
       "      <td>1</td>\n",
       "    </tr>\n",
       "    <tr>\n",
       "      <th>194</th>\n",
       "      <td>0</td>\n",
       "      <td>0</td>\n",
       "    </tr>\n",
       "    <tr>\n",
       "      <th>126</th>\n",
       "      <td>0</td>\n",
       "      <td>0</td>\n",
       "    </tr>\n",
       "    <tr>\n",
       "      <th>198</th>\n",
       "      <td>0</td>\n",
       "      <td>0</td>\n",
       "    </tr>\n",
       "    <tr>\n",
       "      <th>89</th>\n",
       "      <td>0</td>\n",
       "      <td>1</td>\n",
       "    </tr>\n",
       "    <tr>\n",
       "      <th>75</th>\n",
       "      <td>0</td>\n",
       "      <td>0</td>\n",
       "    </tr>\n",
       "  </tbody>\n",
       "</table>\n",
       "</div>"
      ],
      "text/plain": [
       "     Actual  Y test predicted\n",
       "18        0                 0\n",
       "96        0                 0\n",
       "207       0                 0\n",
       "149       0                 0\n",
       "92        1                 1\n",
       "191       1                 1\n",
       "229       1                 1\n",
       "225       0                 0\n",
       "64        1                 1\n",
       "203       0                 0\n",
       "228       0                 0\n",
       "245       0                 0\n",
       "155       1                 1\n",
       "186       1                 0\n",
       "137       1                 1\n",
       "194       0                 0\n",
       "126       0                 0\n",
       "198       0                 0\n",
       "89        0                 1\n",
       "75        0                 0"
      ]
     },
     "execution_count": 72,
     "metadata": {},
     "output_type": "execute_result"
    }
   ],
   "source": [
    "test3.sample(20)"
   ]
  },
  {
   "cell_type": "code",
   "execution_count": null,
   "id": "cc35fc05",
   "metadata": {},
   "outputs": [],
   "source": []
  },
  {
   "cell_type": "code",
   "execution_count": 106,
   "id": "87ca0511",
   "metadata": {},
   "outputs": [
    {
     "name": "stdout",
     "output_type": "stream",
     "text": [
      "0.8947368421052632\n"
     ]
    }
   ],
   "source": [
    "model1 = LogisticRegression(max_iter = 300)\n",
    "model1.fit(X_train, y_train)\n",
    "y_pred1 = model1.predict(X_test)\n",
    "print(accuracy_score(y_test, y_pred1))\n",
    "accuracy[str(model1)] = accuracy_score(y_test, y_pred1)*100"
   ]
  },
  {
   "cell_type": "code",
   "execution_count": 107,
   "id": "7f108730",
   "metadata": {},
   "outputs": [
    {
     "name": "stdout",
     "output_type": "stream",
     "text": [
      "              precision    recall  f1-score   support\n",
      "\n",
      "           0       0.88      0.96      0.92        46\n",
      "           1       0.92      0.80      0.86        30\n",
      "\n",
      "    accuracy                           0.89        76\n",
      "   macro avg       0.90      0.88      0.89        76\n",
      "weighted avg       0.90      0.89      0.89        76\n",
      "\n"
     ]
    }
   ],
   "source": [
    "print(classification_report(y_test,y_pred1))"
   ]
  },
  {
   "cell_type": "code",
   "execution_count": 108,
   "id": "a73bb5e4",
   "metadata": {},
   "outputs": [],
   "source": [
    "y_pred_test = model1.predict(X_test)\n",
    "y_pred_train = model1.predict(X_train)\n",
    "\n",
    "test1 = pd.DataFrame({\n",
    "    'Actual':y_test,\n",
    "    'Y test predicted':y_pred_test\n",
    "})\n",
    "\n",
    "train = pd.DataFrame({\n",
    "    'Actual':y_train,\n",
    "    'Y train predicted':y_pred_train\n",
    "})"
   ]
  },
  {
   "cell_type": "code",
   "execution_count": 109,
   "id": "4a313276",
   "metadata": {},
   "outputs": [
    {
     "data": {
      "text/html": [
       "<div>\n",
       "<style scoped>\n",
       "    .dataframe tbody tr th:only-of-type {\n",
       "        vertical-align: middle;\n",
       "    }\n",
       "\n",
       "    .dataframe tbody tr th {\n",
       "        vertical-align: top;\n",
       "    }\n",
       "\n",
       "    .dataframe thead th {\n",
       "        text-align: right;\n",
       "    }\n",
       "</style>\n",
       "<table border=\"1\" class=\"dataframe\">\n",
       "  <thead>\n",
       "    <tr style=\"text-align: right;\">\n",
       "      <th></th>\n",
       "      <th>Actual</th>\n",
       "      <th>Y test predicted</th>\n",
       "    </tr>\n",
       "  </thead>\n",
       "  <tbody>\n",
       "    <tr>\n",
       "      <th>178</th>\n",
       "      <td>1</td>\n",
       "      <td>1</td>\n",
       "    </tr>\n",
       "    <tr>\n",
       "      <th>8</th>\n",
       "      <td>0</td>\n",
       "      <td>0</td>\n",
       "    </tr>\n",
       "    <tr>\n",
       "      <th>161</th>\n",
       "      <td>1</td>\n",
       "      <td>1</td>\n",
       "    </tr>\n",
       "    <tr>\n",
       "      <th>15</th>\n",
       "      <td>0</td>\n",
       "      <td>0</td>\n",
       "    </tr>\n",
       "    <tr>\n",
       "      <th>12</th>\n",
       "      <td>1</td>\n",
       "      <td>1</td>\n",
       "    </tr>\n",
       "    <tr>\n",
       "      <th>89</th>\n",
       "      <td>0</td>\n",
       "      <td>1</td>\n",
       "    </tr>\n",
       "    <tr>\n",
       "      <th>155</th>\n",
       "      <td>1</td>\n",
       "      <td>1</td>\n",
       "    </tr>\n",
       "    <tr>\n",
       "      <th>199</th>\n",
       "      <td>1</td>\n",
       "      <td>1</td>\n",
       "    </tr>\n",
       "    <tr>\n",
       "      <th>111</th>\n",
       "      <td>0</td>\n",
       "      <td>0</td>\n",
       "    </tr>\n",
       "    <tr>\n",
       "      <th>45</th>\n",
       "      <td>0</td>\n",
       "      <td>0</td>\n",
       "    </tr>\n",
       "    <tr>\n",
       "      <th>126</th>\n",
       "      <td>0</td>\n",
       "      <td>0</td>\n",
       "    </tr>\n",
       "    <tr>\n",
       "      <th>37</th>\n",
       "      <td>1</td>\n",
       "      <td>1</td>\n",
       "    </tr>\n",
       "    <tr>\n",
       "      <th>71</th>\n",
       "      <td>1</td>\n",
       "      <td>1</td>\n",
       "    </tr>\n",
       "    <tr>\n",
       "      <th>237</th>\n",
       "      <td>1</td>\n",
       "      <td>1</td>\n",
       "    </tr>\n",
       "    <tr>\n",
       "      <th>204</th>\n",
       "      <td>1</td>\n",
       "      <td>1</td>\n",
       "    </tr>\n",
       "    <tr>\n",
       "      <th>116</th>\n",
       "      <td>1</td>\n",
       "      <td>1</td>\n",
       "    </tr>\n",
       "    <tr>\n",
       "      <th>106</th>\n",
       "      <td>1</td>\n",
       "      <td>1</td>\n",
       "    </tr>\n",
       "    <tr>\n",
       "      <th>225</th>\n",
       "      <td>0</td>\n",
       "      <td>0</td>\n",
       "    </tr>\n",
       "    <tr>\n",
       "      <th>16</th>\n",
       "      <td>0</td>\n",
       "      <td>0</td>\n",
       "    </tr>\n",
       "    <tr>\n",
       "      <th>245</th>\n",
       "      <td>0</td>\n",
       "      <td>0</td>\n",
       "    </tr>\n",
       "  </tbody>\n",
       "</table>\n",
       "</div>"
      ],
      "text/plain": [
       "     Actual  Y test predicted\n",
       "178       1                 1\n",
       "8         0                 0\n",
       "161       1                 1\n",
       "15        0                 0\n",
       "12        1                 1\n",
       "89        0                 1\n",
       "155       1                 1\n",
       "199       1                 1\n",
       "111       0                 0\n",
       "45        0                 0\n",
       "126       0                 0\n",
       "37        1                 1\n",
       "71        1                 1\n",
       "237       1                 1\n",
       "204       1                 1\n",
       "116       1                 1\n",
       "106       1                 1\n",
       "225       0                 0\n",
       "16        0                 0\n",
       "245       0                 0"
      ]
     },
     "execution_count": 109,
     "metadata": {},
     "output_type": "execute_result"
    }
   ],
   "source": [
    "test1.sample(20)"
   ]
  },
  {
   "cell_type": "code",
   "execution_count": null,
   "id": "77a707c5",
   "metadata": {},
   "outputs": [],
   "source": []
  }
 ],
 "metadata": {
  "kernelspec": {
   "display_name": "Python 3 (ipykernel)",
   "language": "python",
   "name": "python3"
  },
  "language_info": {
   "codemirror_mode": {
    "name": "ipython",
    "version": 3
   },
   "file_extension": ".py",
   "mimetype": "text/x-python",
   "name": "python",
   "nbconvert_exporter": "python",
   "pygments_lexer": "ipython3",
   "version": "3.9.13"
  }
 },
 "nbformat": 4,
 "nbformat_minor": 5
}
